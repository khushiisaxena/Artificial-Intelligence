{
  "cells": [
    {
      "cell_type": "markdown",
      "metadata": {
        "id": "view-in-github",
        "colab_type": "text"
      },
      "source": [
        "<a href=\"https://colab.research.google.com/github/khushiisaxena/Artificial-Intelligence/blob/main/AI_Lab_2.ipynb\" target=\"_parent\"><img src=\"https://colab.research.google.com/assets/colab-badge.svg\" alt=\"Open In Colab\"/></a>"
      ]
    },
    {
      "cell_type": "markdown",
      "source": [
        "Que 1: Marble_Solitaire"
      ],
      "metadata": {
        "id": "iTk6BWIzlYVa"
      }
    },
    {
      "cell_type": "code",
      "execution_count": null,
      "metadata": {
        "id": "4-_I1lfk27Qk"
      },
      "outputs": [],
      "source": [
        "# Import necessary libraries for all three problem statements\n",
        "import numpy as np\n",
        "from time import time\n",
        "import random\n",
        "from queue import PriorityQueue"
      ]
    },
    {
      "cell_type": "code",
      "source": [
        "# create a node class\n",
        "class Node:\n",
        "    def __init__(self, parent, state, path_cost, heuristic_cost, action=None):\n",
        "        self.parent = parent\n",
        "        self.state = state\n",
        "        self.action = action\n",
        "        self.path_cost = path_cost\n",
        "        self.heuristic_cost = heuristic_cost\n",
        "        self.cost = path_cost + heuristic_cost\n",
        "\n",
        "    def __hash__(self):\n",
        "        return hash(str(self.state.flatten()))\n",
        "\n",
        "    def __str__(self):\n",
        "        return str(self.state)\n",
        "\n",
        "    def __ne__(self, other):\n",
        "        return hash(''.join(self.state.flatten())) != hash(''.join(other.state.flatten()))\n",
        "\n",
        "    def __eq__(self, other):\n",
        "        return hash(''.join(self.state.flatten())) == hash(''.join(other.state.flatten()))\n",
        "\n",
        "# create a priority queue class\n",
        "class PriorityQueue:\n",
        "    def __init__(self):\n",
        "        self.queue = []\n",
        "        self.hashes = {}\n",
        "\n",
        "    def push(self, node):\n",
        "        node_hash = hash(node)\n",
        "        if node_hash not in self.hashes:\n",
        "            self.hashes[node_hash] = 1\n",
        "            self.queue.append(node)\n",
        "\n",
        "    def pop(self):\n",
        "        min_cost_index = self._find_min_cost_index()\n",
        "        return self.queue.pop(min_cost_index)\n",
        "\n",
        "    def _find_min_cost_index(self):\n",
        "        min_cost = 10**18\n",
        "        min_index = -1\n",
        "        for i, node in enumerate(self.queue):\n",
        "            if node.cost < min_cost:\n",
        "                min_cost = node.cost\n",
        "                min_index = i\n",
        "        return min_index\n",
        "\n",
        "    def is_empty(self):\n",
        "        return not bool(self.queue)\n",
        "\n",
        "    def __str__(self):\n",
        "        return str([node.state for node in self.queue])\n",
        "\n",
        "    def __len__(self):\n",
        "        return len(self.queue)\n",
        "\n",
        "# create a class for environment\n",
        "class Environment:\n",
        "    def __init__(self, start_state=None, goal_state=None):\n",
        "        self.actions = [1, 2, 3, 4]  # 1 - Up, 2 - Down, 3 - Right, 4 - Left\n",
        "        self.goal_state = goal_state if goal_state is not None else self.generate_goal_state()\n",
        "        self.start_state = start_state if start_state is not None else self.generate_start_state()\n",
        "\n",
        "    def generate_state(self, center_value):\n",
        "        state = np.zeros((7, 7))\n",
        "        state[[0, 1, 5, 6], :] = -1\n",
        "        state[:, [0, 1, 5, 6]] = -1\n",
        "        state[2:5, 2:5] = 1\n",
        "        state[3, 3] = center_value\n",
        "        return state\n",
        "\n",
        "    def generate_start_state(self):\n",
        "        return self.generate_state(0)\n",
        "\n",
        "    def generate_goal_state(self):\n",
        "        return self.generate_state(1)\n",
        "\n",
        "    def get_start_state(self):\n",
        "        return self.start_state\n",
        "\n",
        "    def get_goal_state(self):\n",
        "        return self.goal_state\n",
        "\n",
        "    def get_next_states(self, state):\n",
        "        new_states = []\n",
        "        spaces = [(i, j) for i in range(7) for j in range(7) if state[i][j] == 0]\n",
        "        for x, y in spaces:\n",
        "            new_states.extend(self.get_new_states_for_space(state, x, y))\n",
        "        return new_states\n",
        "\n",
        "    def get_new_states_for_space(self, state, x, y):\n",
        "        new_states = []\n",
        "        directions = [(1, 0), (-1, 0), (0, 1), (0, -1)]\n",
        "        for dx, dy in directions:\n",
        "            if self.can_move(state, x, y, dx, dy):\n",
        "                new_state = state.copy()\n",
        "                new_state[x][y] = 1\n",
        "                new_state[x + dx][y + dy] = 0\n",
        "                new_state[x + 2 * dx][y + 2 * dy] = 0\n",
        "                action = f'({x + 2 * dx}, {y + 2 * dy}) -> ({x}, {y})'\n",
        "                new_states.append((new_state, action))\n",
        "        return new_states\n",
        "\n",
        "    def can_move(self, state, x, y, dx, dy):\n",
        "        return (0 <= x + 2 * dx < 7 and 0 <= y + 2 * dy < 7 and\n",
        "                state[x + dx][y + dy] == 1 and state[x + 2 * dx][y + 2 * dy] == 1)\n",
        "\n",
        "    def reached_goal(self, state):\n",
        "        return np.array_equal(state, self.goal_state)"
      ],
      "metadata": {
        "id": "hzCAX4vA3tHj"
      },
      "execution_count": null,
      "outputs": []
    },
    {
      "cell_type": "code",
      "source": [
        "import time\n",
        "\n",
        "class Player1:\n",
        "    def __init__(self, env, heuristic):\n",
        "        self.frontier = PriorityQueue()\n",
        "        self.explored = {}\n",
        "        self.env = env\n",
        "        self.heuristic = heuristic\n",
        "        self.start_state = self.env.get_start_state()\n",
        "        self.goal_state = self.env.get_goal_state()\n",
        "        self.goal_node = None\n",
        "\n",
        "    def run(self):\n",
        "        self.initialize_frontier()\n",
        "        start_time = time.time()\n",
        "        while not self.frontier.is_empty():\n",
        "            current_node = self.frontier.pop()\n",
        "            if self.is_explored(current_node):\n",
        "                continue\n",
        "            self.add_to_explored(current_node)\n",
        "            if self.env.reached_goal(current_node.state):\n",
        "                print(\"Reached goal!\")\n",
        "                self.goal_node = current_node\n",
        "                break\n",
        "            self.expand_frontier(current_node)\n",
        "        end_time = time.time()\n",
        "        print(end_time - start_time)\n",
        "        return end_time - start_time\n",
        "\n",
        "    def initialize_frontier(self):\n",
        "        initial_node = Node(parent=None, state=self.start_state, path_cost=0, heuristic_cost=0)\n",
        "        self.frontier.push(initial_node)\n",
        "\n",
        "    def is_explored(self, node):\n",
        "        return hash(node) in self.explored\n",
        "\n",
        "    def add_to_explored(self, node):\n",
        "        self.explored[hash(node)] = node\n",
        "\n",
        "    def expand_frontier(self, current_node):\n",
        "        next_states = self.env.get_next_states(current_node.state)\n",
        "        for state in next_states:\n",
        "            heuristic_cost = self.heuristic(state[0])\n",
        "            node = Node(parent=current_node, state=state[0], path_cost=current_node.path_cost+1, heuristic_cost=heuristic_cost, action=state[1])\n",
        "            self.frontier.push(node)\n",
        "\n",
        "    def print_nodes(self):\n",
        "        node = self.goal_node\n",
        "        nodes = []\n",
        "        while node is not None:\n",
        "            nodes.append(node)\n",
        "            node = node.parent\n",
        "        for step, node in enumerate(reversed(nodes), start=1):\n",
        "            print(f\"Step: {step}\")\n",
        "            print(node.action)"
      ],
      "metadata": {
        "id": "GTgb8Fr_5IKu"
      },
      "execution_count": null,
      "outputs": []
    },
    {
      "cell_type": "code",
      "source": [
        "def heuristic0(curr_state):\n",
        "    return 0\n",
        "def heuristic1(curr_state):\n",
        "    return sum(abs(i-3) + abs(j-3) for i in range(7) for j in range(7) if curr_state[i][j] == 1)\n",
        "\n",
        "def heuristic2(curr_state):\n",
        "    return sum(2 ** max(abs(i - 3), abs(j - 3)) for i in range(7) for j in range(7) if curr_state[i][j] == 1)\n"
      ],
      "metadata": {
        "id": "_KeAaaWo5bqn"
      },
      "execution_count": null,
      "outputs": []
    },
    {
      "cell_type": "code",
      "source": [
        "t = 0\n",
        "for i in range(5):\n",
        "    agent = Player1(Environment(), heuristic2)\n",
        "    t+=agent.run()\n",
        "\n",
        "print(\"Average time\", t/5)\n",
        "\n",
        "print(\"Number of nodes explored:\", len(agent.explored))\n",
        "print(\"Number of nodes in frontier:\", len(agent.frontier))"
      ],
      "metadata": {
        "colab": {
          "base_uri": "https://localhost:8080/"
        },
        "id": "r6lqdDOcOrc-",
        "outputId": "1360469b-5f57-48e3-c3c5-ecd95233be13"
      },
      "execution_count": null,
      "outputs": [
        {
          "output_type": "stream",
          "name": "stdout",
          "text": [
            "0.003085613250732422\n",
            "0.0006940364837646484\n",
            "0.0007064342498779297\n",
            "0.0007033348083496094\n",
            "0.0006604194641113281\n",
            "Average time 0.0011699676513671875\n",
            "Number of nodes explored: 1\n",
            "Number of nodes in frontier: 0\n"
          ]
        }
      ]
    },
    {
      "cell_type": "code",
      "source": [
        "import time\n",
        "\n",
        "class Player2:\n",
        "    def __init__(self, env, heuristic):\n",
        "        self.frontier = PriorityQueue()\n",
        "        self.explored = {}\n",
        "        self.env = env\n",
        "        self.heuristic = heuristic\n",
        "        self.start_state = self.env.get_start_state()\n",
        "        self.goal_state = self.env.get_goal_state()\n",
        "        self.goal_node = None\n",
        "\n",
        "    def run(self):\n",
        "        self.initialize_frontier()\n",
        "        start_time = time.time()\n",
        "        while not self.frontier.is_empty():\n",
        "            current_node = self.frontier.pop()\n",
        "            if self.is_explored(current_node):\n",
        "                continue\n",
        "            self.add_to_explored(current_node)\n",
        "            if self.env.reached_goal(current_node.state):\n",
        "                print(\"Reached goal!\")\n",
        "                self.goal_node = current_node\n",
        "                break\n",
        "            self.expand_frontier(current_node)\n",
        "        end_time = time.time()\n",
        "        print(end_time - start_time)\n",
        "        return end_time - start_time\n",
        "\n",
        "    def initialize_frontier(self):\n",
        "        initial_node = Node(parent=None, state=self.start_state, path_cost=0, heuristic_cost=0)\n",
        "        self.frontier.push(initial_node)\n",
        "\n",
        "    def is_explored(self, node):\n",
        "        return hash(node) in self.explored\n",
        "\n",
        "    def add_to_explored(self, node):\n",
        "        self.explored[hash(node)] = node\n",
        "\n",
        "    def expand_frontier(self, current_node):\n",
        "        next_states = self.env.get_next_states(current_node.state)\n",
        "        for state in next_states:\n",
        "            heuristic_cost = self.heuristic(state[0])\n",
        "            node = Node(parent=current_node, state=state[0], path_cost=0, heuristic_cost=heuristic_cost, action=state[1])\n",
        "            self.frontier.push(node)\n",
        "\n",
        "    def print_nodes(self):\n",
        "        node = self.goal_node\n",
        "        nodes = []\n",
        "        while node is not None:\n",
        "            nodes.append(node)\n",
        "            node = node.parent\n",
        "        for step, node in enumerate(reversed(nodes), start=1):\n",
        "            print(f\"Step: {step}\")\n",
        "            print(node.action)"
      ],
      "metadata": {
        "id": "qBt07RrB50rE"
      },
      "execution_count": null,
      "outputs": []
    },
    {
      "cell_type": "code",
      "source": [
        "t = 0\n",
        "for i in range(5):\n",
        "    agent = Player2(Environment(), heuristic2)\n",
        "    t+=agent.run()\n",
        "\n",
        "print(\"Average time\", t/5)\n",
        "print(\"Number of nodes explored:\", len(agent.explored))\n",
        "print(\"Number of nodes in frontier:\", len(agent.frontier))"
      ],
      "metadata": {
        "colab": {
          "base_uri": "https://localhost:8080/"
        },
        "id": "OmsM-5ScUicd",
        "outputId": "442d82e4-102a-4a06-86c8-edcad9c50abf"
      },
      "execution_count": null,
      "outputs": [
        {
          "output_type": "stream",
          "name": "stdout",
          "text": [
            "0.0008957386016845703\n",
            "0.0007128715515136719\n",
            "0.0018048286437988281\n",
            "0.0010941028594970703\n",
            "0.0006597042083740234\n",
            "Average time 0.001033449172973633\n",
            "Number of nodes explored: 1\n",
            "Number of nodes in frontier: 0\n"
          ]
        }
      ]
    },
    {
      "cell_type": "markdown",
      "source": [
        "Que 2: Uniform kSAT"
      ],
      "metadata": {
        "id": "ta1SttR-og5c"
      }
    },
    {
      "cell_type": "code",
      "source": [
        "def generateInstance(n, k, m):\n",
        "    vars = [chr(i + 65) for i in range(n)]\n",
        "    clauses = []\n",
        "\n",
        "    for _ in range(m):\n",
        "        clause = []\n",
        "        for _ in range(k):\n",
        "            x = random.choice(vars)\n",
        "            vars.remove(x)\n",
        "            clause.append('~' + x if random.random() < 0.5 else x)\n",
        "        clauses.append(' or '.join(clause))\n",
        "        vars.extend(clause)\n",
        "\n",
        "    problem = ' and '.join(f'({clause})' for clause in clauses)\n",
        "    return f'(({problem}))'\n",
        "\n",
        "for i in range(10):\n",
        "    print(f\"Problem {i+1}: {generateInstance(12, 3, 4)}\")"
      ],
      "metadata": {
        "id": "OFx7GXdC1QGH",
        "colab": {
          "base_uri": "https://localhost:8080/"
        },
        "outputId": "0c6f359c-1808-48c1-ea0c-377d3758d85e"
      },
      "execution_count": null,
      "outputs": [
        {
          "output_type": "stream",
          "name": "stdout",
          "text": [
            "Problem 1: (((L or K or ~G) and (~H or A or C) and (~~H or ~I or F) and (~~G or D or B)))\n",
            "Problem 2: (((C or A or G) and (~H or ~K or ~D) and (F or ~L or ~C) and (E or ~C or ~D)))\n",
            "Problem 3: (((~F or B or ~G) and (D or ~E or ~L) and (K or ~~F or ~~G) and (~J or D or H)))\n",
            "Problem 4: (((B or ~C or ~D) and (~K or ~I or ~F) and (~~F or ~I or ~C) and (~~F or ~A or ~L)))\n",
            "Problem 5: (((~K or F or E) and (~J or ~I or ~L) and (G or ~K or ~I) and (D or ~L or ~E)))\n",
            "Problem 6: (((D or ~C or F) and (~I or A or B) and (~~I or ~L or ~A) and (~~~I or ~~C or B)))\n",
            "Problem 7: (((D or ~B or ~H) and (J or ~B or ~E) and (~J or F or I) and (~~E or G or ~~B)))\n",
            "Problem 8: (((~J or B or I) and (G or A or ~L) and (~J or ~H or I) and (F or ~G or I)))\n",
            "Problem 9: (((~L or ~A or I) and (~H or ~E or ~G) and (~H or ~E or F) and (~~A or B or C)))\n",
            "Problem 10: (((~K or I or H) and (~I or F or ~C) and (H or ~E or ~G) and (~~I or ~A or ~H)))\n"
          ]
        }
      ]
    },
    {
      "cell_type": "markdown",
      "source": [
        "3SAT"
      ],
      "metadata": {
        "id": "RXk1WYGhomWv"
      }
    },
    {
      "cell_type": "code",
      "execution_count": null,
      "metadata": {
        "id": "F79E8gspp-24"
      },
      "outputs": [],
      "source": [
        "from dataclasses import dataclass, field\n",
        "from typing import Any\n",
        "\n",
        "@dataclass(order=True)\n",
        "class PrioritizedItem:\n",
        "    priority: int\n",
        "    item: Any=field(compare=False)"
      ]
    },
    {
      "cell_type": "code",
      "source": [
        "#Function to generate an instance of k-SAT problem\n",
        "def generateInstance(n, k, m):\n",
        "    vars = [chr(i + 65) for i in range(n)]\n",
        "    problem_parts = []\n",
        "\n",
        "    for _ in range(m):\n",
        "        clause = []\n",
        "        for _ in range(k):\n",
        "            x = random.choice(vars)\n",
        "            vars.remove(x)\n",
        "            clause.append('~' + x if random.random() < 0.5 else x)\n",
        "        problem_parts.append(' or '.join(clause))\n",
        "        vars.extend(clause)\n",
        "\n",
        "    problem = ' and '.join(f'({part})' for part in problem_parts)\n",
        "    return f'(({problem}))'\n"
      ],
      "metadata": {
        "id": "9DJ5BA7jqHqU"
      },
      "execution_count": null,
      "outputs": []
    },
    {
      "cell_type": "code",
      "source": [
        "# Function to generate a random assignment of variables\n",
        "def generateRandomAssignment(num_vars):\n",
        "    return [random.randint(0, 1) for _ in range(num_vars)]"
      ],
      "metadata": {
        "id": "iEn5LoCPomkA"
      },
      "execution_count": null,
      "outputs": []
    },
    {
      "cell_type": "code",
      "source": [
        "# Function to evaluate the fitness of a given assignment of variables\n",
        "def evaluate(assignment, k, variables, posOrNeg):\n",
        "    fitness = 0\n",
        "    clauseEval = 0\n",
        "\n",
        "    for i, var in enumerate(variables):\n",
        "        clauseEval |= assignment[var] if posOrNeg[i] == 'P' else 1 - assignment[var]\n",
        "        if i % k == k - 1:\n",
        "            fitness += clauseEval\n",
        "            clauseEval = 0\n",
        "\n",
        "    return fitness"
      ],
      "metadata": {
        "id": "sssD3uS7rhfP"
      },
      "execution_count": null,
      "outputs": []
    },
    {
      "cell_type": "markdown",
      "source": [
        "Hill Climbing"
      ],
      "metadata": {
        "id": "LItCcFx4eOSu"
      }
    },
    {
      "cell_type": "code",
      "source": [
        "def hillClimbing(assignment, depth, k, variables, posOrNeg):\n",
        "    for d in range(depth):\n",
        "        currentFitness = evaluate(assignment, k, variables, posOrNeg)\n",
        "\n",
        "        if currentFitness == len(variables):\n",
        "            return assignment\n",
        "\n",
        "        change = None\n",
        "        for c in assignment:\n",
        "            neighbour = assignment.copy()\n",
        "            neighbour[c] = 1 - neighbour[c]\n",
        "\n",
        "            neighbourFitness = evaluate(neighbour, k, variables, posOrNeg)\n",
        "            if neighbourFitness > currentFitness:\n",
        "                currentFitness = neighbourFitness\n",
        "                change = c\n",
        "\n",
        "        if change is not None:\n",
        "            assignment[change] = 1 - assignment[change]\n",
        "\n",
        "    return assignment"
      ],
      "metadata": {
        "id": "Y0uCKTcJt-lO"
      },
      "execution_count": null,
      "outputs": []
    },
    {
      "cell_type": "markdown",
      "source": [
        "Beam Search (beam width must be less than n)"
      ],
      "metadata": {
        "id": "YJN5F340eUrS"
      }
    },
    {
      "cell_type": "code",
      "source": [
        "#function to solve 3-SAT using Beam Search\n",
        "def beamSearch(assignment, k, variables, posOrNeg, b, steps):\n",
        "    beam = PriorityQueue()\n",
        "    current = assignment\n",
        "    beam.put(PrioritizedItem(-evaluate(current, k, variables, posOrNeg), assignment))\n",
        "\n",
        "    for s in range(steps):\n",
        "        if beam.empty():\n",
        "            break\n",
        "\n",
        "        state = beam.get()\n",
        "        current = state.item\n",
        "        x = -state.priority\n",
        "\n",
        "        if x == len(variables):\n",
        "            return current\n",
        "\n",
        "        for c in current:\n",
        "            neighbour = current.copy()\n",
        "            neighbour[c] = 1 - neighbour[c]\n",
        "            neighbourFitness = -evaluate(neighbour, k, variables, posOrNeg)\n",
        "\n",
        "            if beam.qsize() < b or neighbourFitness > beam.queue[0].priority:\n",
        "                if beam.qsize() == b:\n",
        "                    beam.get()\n",
        "                beam.put(PrioritizedItem(neighbourFitness, neighbour))\n",
        "\n",
        "    return current"
      ],
      "metadata": {
        "id": "6cnzBsNa7M8e"
      },
      "execution_count": null,
      "outputs": []
    },
    {
      "cell_type": "markdown",
      "source": [
        "Variable-Neigbourhood-Descent (3 different neighbouring function)"
      ],
      "metadata": {
        "id": "7L-wLpf3ik5S"
      }
    },
    {
      "cell_type": "code",
      "source": [
        "def neighbour1(assignment):\n",
        "  c = random.choice(list(assignment))\n",
        "  assignment[c] = 1 - assignment[c]\n",
        "  return assignment\n",
        "\n",
        "def neighbour2(assignment):\n",
        "  c = random.choice(list(assignment))\n",
        "  d = random.choice(list(assignment))\n",
        "  while d == c:\n",
        "    d = random.choice(list(assignment))\n",
        "  x = assignment[c]\n",
        "  assignment[c] = assignment[d]\n",
        "  assignment[d] = x\n",
        "\n",
        "  return assignment\n",
        "\n",
        "def neighbour3(assignment):\n",
        "  x = list(assignment.keys())[0]\n",
        "  assignment[x] = 1 - assignment[x]\n",
        "  return assignment"
      ],
      "metadata": {
        "id": "uPY5Lpi8i35t"
      },
      "execution_count": null,
      "outputs": []
    },
    {
      "cell_type": "code",
      "source": [
        "def variableNeighbourhood(assignment, k, variables, posOrNeg, steps):\n",
        "  s = 0\n",
        "  current = assignment\n",
        "\n",
        "  while s < steps:\n",
        "    current = assignment\n",
        "    x = evaluate(assignment, k, variables, posOrNeg)\n",
        "    if x == len(variables):\n",
        "      return current\n",
        "\n",
        "    nbr1 = neighbour1(current.copy())\n",
        "    nbr2 = neighbour2(current.copy())\n",
        "    nbr3 = neighbour3(current.copy())\n",
        "\n",
        "    fn1 = evaluate(nbr1, k, variables, posOrNeg)\n",
        "    fn2 = evaluate(nbr2, k, variables, posOrNeg)\n",
        "    fn3 = evaluate(nbr3, k, variables, posOrNeg)\n",
        "\n",
        "    if max(fn1, fn2, fn3) > x:\n",
        "      x = max(fn1, fn2, fn3)\n",
        "      if x == fn1:\n",
        "        current = nbr1\n",
        "      elif x == fn2:\n",
        "        current = nbr2\n",
        "      else:\n",
        "        x =  nbr3\n",
        "    s += 1\n",
        "\n",
        "  return current"
      ],
      "metadata": {
        "id": "n338Cpddqo1R"
      },
      "execution_count": null,
      "outputs": []
    },
    {
      "cell_type": "code",
      "source": [
        "n = 25\n",
        "k = 3\n",
        "m = 1000\n",
        "problem = generateInstance(n,k,m)\n",
        "numVars = set()\n",
        "variables = []\n",
        "posOrNeg = []\n",
        "\n",
        "prevNeg = False\n",
        "\n",
        "for i in range(len(problem)):\n",
        "  if problem[i] == '~':\n",
        "    prevNeg = True\n",
        "  elif ord(problem[i]) >= 65 and ord(problem[i]) <= 90:\n",
        "    if prevNeg == True:\n",
        "      posOrNeg.append('N')\n",
        "      prevNeg = False\n",
        "    else:\n",
        "      posOrNeg.append('P')\n",
        "\n",
        "    variables.append(problem[i])\n",
        "    numVars.add(problem[i])\n",
        "\n",
        "\n",
        "values = generateRandomAssignment(len(numVars))\n",
        "startState = dict()\n",
        "\n",
        "index = 0\n",
        "for c in numVars:\n",
        "  startState[c] = values[index]\n",
        "  index += 1\n",
        "\n",
        "print(startState)\n",
        "print(\"Starting State Fitness: \", evaluate(startState, k, variables, posOrNeg))\n",
        "solution  = hillClimbing(startState.copy(), 100, k, variables, posOrNeg)\n",
        "print(\"Hill Climbing Solution Fitness: \", evaluate(solution, k, variables, posOrNeg))\n",
        "solution = beamSearch(startState.copy(), k, variables, posOrNeg, 3, 1000)\n",
        "print(\"Beam Search Solution Fitness (Beam-Width = 3): \", evaluate(solution, k, variables, posOrNeg))\n",
        "solution = beamSearch(startState.copy(), k, variables, posOrNeg, 4, 1000)\n",
        "print(\"Beam Search Solution Fitness (Beam-Width = 4): \", evaluate(solution, k, variables, posOrNeg))\n",
        "\n",
        "\n",
        "print(\"Neighbour 1: \", neighbour1(startState.copy()))\n",
        "print(\"Neighbour 2: \", neighbour2(startState.copy()))\n",
        "print(\"Neighbour 3: \", neighbour3(startState.copy()))\n",
        "\n",
        "solution = variableNeighbourhood(startState.copy(), k, variables, posOrNeg, 1000)\n",
        "print(\"Variable-Neigbourhood-Descent Fitness: \", evaluate(solution, k, variables, posOrNeg))"
      ],
      "metadata": {
        "colab": {
          "base_uri": "https://localhost:8080/"
        },
        "id": "zsh3x9_StWi3",
        "outputId": "625e5210-0bc7-4824-e076-694b6b4c1d47"
      },
      "execution_count": null,
      "outputs": [
        {
          "output_type": "stream",
          "name": "stdout",
          "text": [
            "{'S': 0, 'W': 0, 'M': 1, 'J': 1, 'K': 1, 'R': 0, 'Y': 0, 'D': 1, 'P': 1, 'L': 1, 'I': 1, 'E': 1, 'N': 0, 'T': 0, 'F': 0, 'G': 1, 'O': 0, 'X': 0, 'V': 0, 'H': 1, 'C': 1, 'A': 0, 'B': 0, 'Q': 0, 'U': 1}\n",
            "Starting State Fitness:  900\n",
            "Hill Climbing Solution Fitness:  1000\n",
            "Beam Search Solution Fitness (Beam-Width = 3):  114\n",
            "Beam Search Solution Fitness (Beam-Width = 4):  114\n",
            "Neighbour 1:  {'S': 0, 'W': 0, 'M': 1, 'J': 1, 'K': 1, 'R': 0, 'Y': 0, 'D': 1, 'P': 1, 'L': 1, 'I': 0, 'E': 1, 'N': 0, 'T': 0, 'F': 0, 'G': 1, 'O': 0, 'X': 0, 'V': 0, 'H': 1, 'C': 1, 'A': 0, 'B': 0, 'Q': 0, 'U': 1}\n",
            "Neighbour 2:  {'S': 0, 'W': 0, 'M': 0, 'J': 1, 'K': 1, 'R': 0, 'Y': 0, 'D': 1, 'P': 1, 'L': 1, 'I': 1, 'E': 1, 'N': 0, 'T': 0, 'F': 0, 'G': 1, 'O': 0, 'X': 0, 'V': 0, 'H': 1, 'C': 1, 'A': 0, 'B': 1, 'Q': 0, 'U': 1}\n",
            "Neighbour 3:  {'S': 1, 'W': 0, 'M': 1, 'J': 1, 'K': 1, 'R': 0, 'Y': 0, 'D': 1, 'P': 1, 'L': 1, 'I': 1, 'E': 1, 'N': 0, 'T': 0, 'F': 0, 'G': 1, 'O': 0, 'X': 0, 'V': 0, 'H': 1, 'C': 1, 'A': 0, 'B': 0, 'Q': 0, 'U': 1}\n",
            "Variable-Neigbourhood-Descent Fitness:  900\n"
          ]
        }
      ]
    }
  ],
  "metadata": {
    "colab": {
      "provenance": [],
      "include_colab_link": true
    },
    "kernelspec": {
      "display_name": "Python 3",
      "name": "python3"
    },
    "language_info": {
      "name": "python"
    }
  },
  "nbformat": 4,
  "nbformat_minor": 0
}